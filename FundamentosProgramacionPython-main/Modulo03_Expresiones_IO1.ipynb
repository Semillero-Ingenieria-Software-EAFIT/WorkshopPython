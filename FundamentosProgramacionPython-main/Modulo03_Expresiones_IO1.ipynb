{
 "cells": [
  {
   "cell_type": "markdown",
   "metadata": {
    "slideshow": {
     "slide_type": "slide"
    }
   },
   "source": [
    "<h1 align=\"center\">Fundamentos de Programación</h1>\n",
    "<h1 align=\"center\">Módulo 03: Expresiones, I/O</h1>\n",
    "<h1 align=\"center\">Universidad EAFIT</h1>\n",
    "<h1 align=\"center\">MEDELLÍN - COLOMBIA </h1>\n",
    "<h1 align=\"center\">2024/02</h1>"
   ]
  },
  {
   "cell_type": "markdown",
   "metadata": {},
   "source": [
    "*** \n",
    "||[![Open In Colab](https://colab.research.google.com/assets/colab-badge.svg)](https://colab.research.google.com/github/EAFIT-Ingenieria-Software/FundamentosProgramacionPython/blob/main/Modulo03_Expresiones_IO1.ipynb)||\n",
    "|-:|:-:|--:|\n",
    "|[![Instagram](https://img.shields.io/badge/Instagram-E4405F?style=plastic&logo=instagram&logoColor=white)](https://www.instagram.com/semingdesofteafit?igsh=YmV1dmw0azFidnp0)|[![Gmail](https://img.shields.io/badge/Gmail-D14836?style=plastic&logo=gmail&logoColor=white)](mailto:ingsoftwareeafit@gmail.com)|[![@eafit](https://img.shields.io/badge/github-%23121011.svg?style=plastic&logo=github&logoColor=white)](https://github.com/EAFIT-Ingenieria-Software)|\n",
    "\n",
    "<table>\n",
    " <tr align=left><td><img align=left src=\"https://github.com/carlosalvarezh/Curso_CEC_EAFIT/blob/main/images/CCLogoColorPop1.gif?raw=true\" width=\"25\">\n",
    " <td>Text provided under a Creative Commons Attribution license, CC-BY. All code is made available under the FSF-approved MIT license.(c) Carlos Alberto Alvarez Henao</td>\n",
    "</table>\n",
    "\n",
    "***"
   ]
  },
  {
   "cell_type": "markdown",
   "metadata": {},
   "source": [
    "<p float=\"center\">\n",
    "  <img src=\"https://github.com/carlosalvarezh/FundamentosProgramacion/blob/main/images/Sem03Img00.gif?raw=true\" width=\"250\" />\n",
    "</p>\n"
   ]
  },
  {
   "cell_type": "markdown",
   "metadata": {},
   "source": [
    "## Mi primer Programa en Python"
   ]
  },
  {
   "cell_type": "markdown",
   "metadata": {},
   "source": [
    "[Python](https://www.python.org/) es un lenguaje de programación versátil, poderoso y fácil de aprender. Es una herramienta fundamental en el mundo de la ingeniería y la informática por varias razones:\n",
    "\n",
    "- ***Simplicidad y legibilidad:*** La sintaxis de Python es clara y legible, lo que facilita la comprensión del código. Esto lo hace ideal para principiantes y permite desarrollar programas más rápidamente.\n",
    "<p>&nbsp;</p>\n",
    "\n",
    "- ***Versatilidad:*** Python es utilizado en una amplia gama de campos: desde desarrollo web y análisis de datos hasta inteligencia artificial y aprendizaje automático. Su versatilidad lo convierte en una herramienta valiosa para ingenieros en casi cualquier disciplina.\n",
    "<p>&nbsp;</p>\n",
    "\n",
    "- ***Gran cantidad de bibliotecas:*** Python cuenta con una vasta cantidad de bibliotecas y frameworks que simplifican tareas complejas. Por ejemplo, [NumPy](https://numpy.org/) y [Pandas](https://pandas.pydata.org/) para el análisis de datos, [TensorFlow](https://www.tensorflow.org/) y [PyTorch](https://pytorch.org/) para machine learning, y [Django](https://www.djangoproject.com/) y [Flask](https://flask.palletsprojects.com/en/3.0.x/) para desarrollo web.\n",
    "<p>&nbsp;</p>\n",
    "\n",
    "- ***Comunidad activa:*** Python tiene una comunidad activa y solidaria. Hay una gran cantidad de recursos en línea, foros de discusión y comunidades que facilitan el aprendizaje continuo y la resolución de problemas.\n",
    "<p>&nbsp;</p>\n",
    "\n",
    "- ***Demanda laboral:*** El dominio de Python es altamente valorado en el mercado laboral. Conocer este lenguaje puede abrir muchas puertas en términos de oportunidades profesionales.\n",
    "\n",
    "En resumen, aprender Python no solo te permite escribir código más rápido y limpio, sino que también te brinda acceso a un ecosistema de herramientas y oportunidades que pueden impulsar tu carrera en ingeniería. Es un punto de partida excelente para adentrarse en el mundo de la programación y el desarrollo de software."
   ]
  },
  {
   "cell_type": "markdown",
   "metadata": {
    "slideshow": {
     "slide_type": "slide"
    }
   },
   "source": [
    "### Valores, Tipos, Variables, Expresiones y Sentencias"
   ]
  },
  {
   "cell_type": "markdown",
   "metadata": {
    "slideshow": {
     "slide_type": "slide"
    }
   },
   "source": [
    "#### Variables"
   ]
  },
  {
   "cell_type": "markdown",
   "metadata": {},
   "source": [
    "Una variable es un nombre que se utiliza para hacer referencia a un valor en la memoria de la computadora. Estos valores pueden ser de diversos tipos (`type`), como numéricos ([int / float / complex](https://docs.python.org/3/library/stdtypes.html#numeric-types-int-float-complex)), cadenas de texto([str](https://docs.python.org/3/library/stdtypes.html#text-sequence-type-str)), secuencia ([tuple/list](https://docs.python.org/3/library/stdtypes.html#sequence-types-list-tuple-range)), asignación (mapping) ([dict](https://docs.python.org/3/library/stdtypes.html#mapping-types-dict)), objetos y más. Las variables son fundamentales en la programación ya que permiten almacenar y manipular datos de manera dinámica.\n",
    "\n",
    "En Python, se crea una variable al asignarle un valor usando el operador de asignación (`=`). Por ejemplo:"
   ]
  },
  {
   "cell_type": "code",
   "execution_count": null,
   "metadata": {
    "slideshow": {
     "slide_type": "subslide"
    }
   },
   "outputs": [],
   "source": [
    "mensaje = \"Este es un mensaje\"\n",
    "n1 = 17\n",
    "n2 = 17.\n",
    "pi = 3.14159265\n",
    "z = 3+2j\n",
    "cc = \"123456789\" "
   ]
  },
  {
   "cell_type": "markdown",
   "metadata": {
    "slideshow": {
     "slide_type": "subslide"
    }
   },
   "source": [
    "Para visualizar el resultdo de las asignaciones emplearemos la primera función de Python: `print()`. Esta función mostrará los resultados directamente en pantalla."
   ]
  },
  {
   "cell_type": "code",
   "execution_count": null,
   "metadata": {},
   "outputs": [],
   "source": [
    "print(mensaje)"
   ]
  },
  {
   "cell_type": "code",
   "execution_count": null,
   "metadata": {},
   "outputs": [],
   "source": [
    "type(mensaje)"
   ]
  },
  {
   "cell_type": "code",
   "execution_count": null,
   "metadata": {},
   "outputs": [],
   "source": [
    "print(n1)"
   ]
  },
  {
   "cell_type": "code",
   "execution_count": null,
   "metadata": {},
   "outputs": [],
   "source": [
    "type(n1)"
   ]
  },
  {
   "cell_type": "code",
   "execution_count": null,
   "metadata": {},
   "outputs": [],
   "source": [
    "print(n2)"
   ]
  },
  {
   "cell_type": "code",
   "execution_count": null,
   "metadata": {},
   "outputs": [],
   "source": [
    "type(n2)"
   ]
  },
  {
   "cell_type": "code",
   "execution_count": null,
   "metadata": {},
   "outputs": [],
   "source": [
    "print(pi)"
   ]
  },
  {
   "cell_type": "code",
   "execution_count": null,
   "metadata": {},
   "outputs": [],
   "source": [
    "type(pi)"
   ]
  },
  {
   "cell_type": "code",
   "execution_count": null,
   "metadata": {},
   "outputs": [],
   "source": [
    "print(z)"
   ]
  },
  {
   "cell_type": "code",
   "execution_count": null,
   "metadata": {},
   "outputs": [],
   "source": [
    "type(z)"
   ]
  },
  {
   "cell_type": "code",
   "execution_count": null,
   "metadata": {},
   "outputs": [],
   "source": [
    "print(cc)"
   ]
  },
  {
   "cell_type": "code",
   "execution_count": null,
   "metadata": {},
   "outputs": [],
   "source": [
    "type(cc)"
   ]
  },
  {
   "cell_type": "markdown",
   "metadata": {
    "slideshow": {
     "slide_type": "slide"
    }
   },
   "source": [
    "### Reglas para nombrar variables"
   ]
  },
  {
   "cell_type": "markdown",
   "metadata": {},
   "source": [
    "- No pueden empezar por número. Al ejecutar la instrucción se generará un error de sintaxis."
   ]
  },
  {
   "cell_type": "code",
   "execution_count": null,
   "metadata": {},
   "outputs": [],
   "source": [
    "4hola = 'holaholaholahola'\n",
    "print(4hola)"
   ]
  },
  {
   "cell_type": "markdown",
   "metadata": {},
   "source": [
    "corregirse como"
   ]
  },
  {
   "cell_type": "code",
   "execution_count": null,
   "metadata": {},
   "outputs": [],
   "source": [
    "hola4 = 'holaholaholahola'\n",
    "print(hola4)"
   ]
  },
  {
   "cell_type": "markdown",
   "metadata": {},
   "source": [
    "- No pueden usar caracteres especiales"
   ]
  },
  {
   "cell_type": "code",
   "execution_count": null,
   "metadata": {},
   "outputs": [],
   "source": [
    "25% = 0.25"
   ]
  },
  {
   "cell_type": "markdown",
   "metadata": {},
   "source": [
    "corregirse como"
   ]
  },
  {
   "cell_type": "code",
   "execution_count": null,
   "metadata": {},
   "outputs": [],
   "source": [
    "Percent25 = 0.25\n",
    "print(Percent25)"
   ]
  },
  {
   "cell_type": "markdown",
   "metadata": {},
   "source": [
    "- No pueden estar separadasa por espacio"
   ]
  },
  {
   "cell_type": "code",
   "execution_count": null,
   "metadata": {},
   "outputs": [],
   "source": [
    "Hola Mundo = \"Hola Mundo\""
   ]
  },
  {
   "cell_type": "markdown",
   "metadata": {},
   "source": [
    "Cambiar a (hay varias posibilidades, esta es una)"
   ]
  },
  {
   "cell_type": "code",
   "execution_count": null,
   "metadata": {},
   "outputs": [],
   "source": [
    "HolaMundo = \"Hola Mundo\"\n",
    "print(HolaMundo)"
   ]
  },
  {
   "cell_type": "markdown",
   "metadata": {},
   "source": [
    "- Nombres de variables pueden tener una cantidad arbitraria de caracteres.\n",
    "<p>&nbsp;</p>\n",
    "\n",
    "- Pueden contener letras y números, pero <strong>SIEMPRE</strong> deben empezar por una letra.\n",
    "<p>&nbsp;</p>\n",
    "\n",
    "- Es **\"Kool\"** usar letras en mayúscula, pero es una buena práctica empezar los nombres de variables en minúscula.\n",
    "<p>&nbsp;</p>\n",
    "\n",
    "- El carácter \"guión bajo\" (*underscore*), `_` , puede aparecer en el nombre de una variable. Usado frecuentemente en variables cuyo nombre está compuesto por diferentes palabras.\n",
    "<p>&nbsp;</p>\n",
    "\n",
    "- Si da a una variable un nombre ilegal, obtendrá un error de sintaxis.\n",
    "\n",
    "Python tiene una [Guía de Estilo (PEP8)](https://peps.python.org/) para poner de acuerdo a todos cómo deben hacerse las cosas al estilo python:\n",
    "\n",
    "- ***Camel Case:*** `nombreVariable`\n",
    "<p>&nbsp;</p>\n",
    "\n",
    "- ***Snake Case:*** `nombre_variable`\n",
    "<p>&nbsp;</p>\n",
    "\n",
    "- ***Pascal Case:*** `NombreVariable`\n",
    "\n",
    "A continuación se presentan una serie de ejemplos con diferentes posibilidades de nombrar las variables. Se invita a los estudiantes que ejecuten cada celda y analicen los resultados obtenidos."
   ]
  },
  {
   "cell_type": "code",
   "execution_count": null,
   "metadata": {
    "slideshow": {
     "slide_type": "subslide"
    }
   },
   "outputs": [],
   "source": [
    "este_puede_ser_el_nombre_valido_de_una_variable = 1\n",
    "print(este_puede_ser_el_nombre_valido_de_una_variable)"
   ]
  },
  {
   "cell_type": "code",
   "execution_count": null,
   "metadata": {},
   "outputs": [],
   "source": [
    "estaEsUnaVariable = 3\n",
    "print(estaEsUnaVariable)"
   ]
  },
  {
   "cell_type": "code",
   "execution_count": null,
   "metadata": {
    "slideshow": {
     "slide_type": "subslide"
    }
   },
   "outputs": [],
   "source": [
    "mamá = 3\n",
    "print(mamá)"
   ]
  },
  {
   "cell_type": "code",
   "execution_count": null,
   "metadata": {
    "slideshow": {
     "slide_type": "subslide"
    }
   },
   "outputs": [],
   "source": [
    "76Pesos = 76\n",
    "print(76Pesos)"
   ]
  },
  {
   "cell_type": "code",
   "execution_count": null,
   "metadata": {
    "slideshow": {
     "slide_type": "subslide"
    }
   },
   "outputs": [],
   "source": [
    "P3s0s 76 = 76\n",
    "print(P3s0s76)"
   ]
  },
  {
   "cell_type": "code",
   "execution_count": null,
   "metadata": {
    "slideshow": {
     "slide_type": "subslide"
    }
   },
   "outputs": [],
   "source": [
    "mas@ = 5.3 "
   ]
  },
  {
   "cell_type": "code",
   "execution_count": null,
   "metadata": {
    "slideshow": {
     "slide_type": "subslide"
    }
   },
   "outputs": [],
   "source": [
    "esta variable = 2.5"
   ]
  },
  {
   "cell_type": "code",
   "execution_count": null,
   "metadata": {
    "slideshow": {
     "slide_type": "subslide"
    }
   },
   "outputs": [],
   "source": [
    "print = \"Avanzado\""
   ]
  },
  {
   "cell_type": "code",
   "execution_count": null,
   "metadata": {},
   "outputs": [],
   "source": [
    "print(class1)"
   ]
  },
  {
   "cell_type": "markdown",
   "metadata": {},
   "source": [
    "#### Palabras Clave (keywords) y funciones integradas (builtins)"
   ]
  },
  {
   "cell_type": "markdown",
   "metadata": {
    "slideshow": {
     "slide_type": "slide"
    }
   },
   "source": [
    "El archivo `keyword.py` se distribuye junto con la librería estándar de `Python`. Es generado automáticamente a partir del archivo `graminit.c`, perteneciente al código fuente del intérprete. Incorpora una lista que contiene el conjunto de palabras resevadas, y una simple función que determina la existencia de un `keyword` a partir de una cadena."
   ]
  },
  {
   "cell_type": "code",
   "execution_count": null,
   "metadata": {
    "slideshow": {
     "slide_type": "-"
    }
   },
   "outputs": [],
   "source": [
    "# Palabras clave\n",
    "\n",
    "import keyword\n",
    "listkw = keyword.kwlist\n",
    "print(listkw)\n",
    "print(len(listkw))"
   ]
  },
  {
   "cell_type": "markdown",
   "metadata": {},
   "source": [
    "No se deben usar como nombres de variables las palabras reservadas, ya que ocasionan error de sintaxis."
   ]
  },
  {
   "cell_type": "code",
   "execution_count": null,
   "metadata": {
    "scrolled": true
   },
   "outputs": [],
   "source": [
    "if = 5\n",
    "print(if)"
   ]
  },
  {
   "cell_type": "markdown",
   "metadata": {},
   "source": [
    "Si por alguna cicunstancia se requiere nombrar una variable con algún nombre similar al de las palabras reservadas, puede modificarla, incluyendo una letra mayúscula o un número, que la diferencie."
   ]
  },
  {
   "cell_type": "code",
   "execution_count": null,
   "metadata": {},
   "outputs": [],
   "source": [
    "If = 5\n",
    "print(If)"
   ]
  },
  {
   "cell_type": "markdown",
   "metadata": {},
   "source": [
    "Observe que en estos sistemas modernos, los diferentes elementos del código también presentan colores distintivos que los hace fácilmente diferenciables. En este caso, las palabras reservadas se presentan con un color verde. Las variables del usuario se presentan en negro."
   ]
  },
  {
   "cell_type": "markdown",
   "metadata": {},
   "source": [
    "Todos los lenguajes contienen una serie de funciones integradas, sin necesidad de importar módulos o bibliotecas externas. En python este es el listado de las funciones integradas por defecto."
   ]
  },
  {
   "cell_type": "code",
   "execution_count": null,
   "metadata": {},
   "outputs": [],
   "source": [
    "# Funciones integradas\n",
    "\n",
    "import builtins\n",
    "list_bins = dir(builtins)\n",
    "print(list_bins)\n",
    "print(len(list_bins))"
   ]
  },
  {
   "cell_type": "code",
   "execution_count": null,
   "metadata": {
    "scrolled": true
   },
   "outputs": [],
   "source": [
    "suma = sum((1,2))\n",
    "print(suma)"
   ]
  },
  {
   "cell_type": "markdown",
   "metadata": {},
   "source": [
    "#### Ayuda (documentación)"
   ]
  },
  {
   "cell_type": "markdown",
   "metadata": {},
   "source": [
    "Si se desconoce el funcionamiento de una función determinada, se puede recurrir a las ayudas del lenguaje. En python se tienen dos formas de hacerlo: con la función `help()` o con el caracter `?`."
   ]
  },
  {
   "cell_type": "code",
   "execution_count": null,
   "metadata": {},
   "outputs": [],
   "source": [
    "help(print)"
   ]
  },
  {
   "cell_type": "code",
   "execution_count": null,
   "metadata": {},
   "outputs": [],
   "source": [
    "print?"
   ]
  },
  {
   "cell_type": "markdown",
   "metadata": {
    "slideshow": {
     "slide_type": "slide"
    }
   },
   "source": [
    "#### Asignación Múltiple"
   ]
  },
  {
   "cell_type": "markdown",
   "metadata": {
    "slideshow": {
     "slide_type": "-"
    }
   },
   "source": [
    "Otra de las ventajas que *Python* nos provee es la de poder asignar en una sola instrucción múltiples variables. Aunque es una opción interesante, debe usarse con moderación. \n",
    "\n",
    "Generalmente a cada variable se le asigna un valor de forma independiente:"
   ]
  },
  {
   "cell_type": "code",
   "execution_count": null,
   "metadata": {},
   "outputs": [],
   "source": [
    "a = \"class\"\n",
    "b = 15\n",
    "c = True"
   ]
  },
  {
   "cell_type": "markdown",
   "metadata": {},
   "source": [
    "Esta sería la versión de asingación múltiple, en una única línea de código. Debe respetarse el orden de asignación para no asignar un valor equivocado a una variable."
   ]
  },
  {
   "cell_type": "code",
   "execution_count": null,
   "metadata": {
    "slideshow": {
     "slide_type": "subslide"
    }
   },
   "outputs": [],
   "source": [
    "a, b, c, d = \"class\", 15, True, 3.8"
   ]
  },
  {
   "cell_type": "code",
   "execution_count": null,
   "metadata": {},
   "outputs": [],
   "source": [
    "type(c)"
   ]
  },
  {
   "cell_type": "code",
   "execution_count": null,
   "metadata": {},
   "outputs": [],
   "source": [
    "print(a)\n",
    "print(b)\n",
    "print(c)\n",
    "print(d)"
   ]
  },
  {
   "cell_type": "markdown",
   "metadata": {
    "slideshow": {
     "slide_type": "slide"
    }
   },
   "source": [
    "### Operadores y Operandos"
   ]
  },
  {
   "cell_type": "markdown",
   "metadata": {},
   "source": [
    "Los operadores son símbolos especiales que realizan operaciones en operandos (variables, valores, expresiones) y producen un resultado. Existen varios tipos de operadores en Python:"
   ]
  },
  {
   "cell_type": "markdown",
   "metadata": {},
   "source": [
    "#### Operadores aritméticos"
   ]
  },
  {
   "cell_type": "markdown",
   "metadata": {},
   "source": [
    "Los operadores son símbolos especiales que representan cálculos aritméticos: \n",
    "\n",
    "|Operador|Símbolo|\n",
    "|--------|-------|\n",
    "|Suma| +|\n",
    "|Resta| -|\n",
    "|Multiplicación| *|\n",
    "|División| /|\n",
    "|Potenciación| **|\n",
    "|División entera| //|\n",
    "|Módulo| %|"
   ]
  },
  {
   "cell_type": "code",
   "execution_count": null,
   "metadata": {},
   "outputs": [],
   "source": [
    "a = 5\n",
    "b = 3"
   ]
  },
  {
   "cell_type": "code",
   "execution_count": null,
   "metadata": {
    "slideshow": {
     "slide_type": "subslide"
    }
   },
   "outputs": [],
   "source": [
    "3 + 5 "
   ]
  },
  {
   "cell_type": "code",
   "execution_count": null,
   "metadata": {
    "slideshow": {
     "slide_type": "subslide"
    }
   },
   "outputs": [],
   "source": [
    "suma = a + b\n",
    "print(suma)"
   ]
  },
  {
   "cell_type": "code",
   "execution_count": null,
   "metadata": {
    "slideshow": {
     "slide_type": "subslide"
    }
   },
   "outputs": [],
   "source": [
    "resta = a - b\n",
    "print(resta)"
   ]
  },
  {
   "cell_type": "code",
   "execution_count": null,
   "metadata": {
    "slideshow": {
     "slide_type": "subslide"
    }
   },
   "outputs": [],
   "source": [
    "multiplicacion = a * b\n",
    "print(multiplicacion)"
   ]
  },
  {
   "cell_type": "code",
   "execution_count": null,
   "metadata": {
    "slideshow": {
     "slide_type": "subslide"
    }
   },
   "outputs": [],
   "source": [
    "division = a / b\n",
    "print(division)"
   ]
  },
  {
   "cell_type": "code",
   "execution_count": null,
   "metadata": {
    "slideshow": {
     "slide_type": "subslide"
    }
   },
   "outputs": [],
   "source": [
    "potencia = a ** b\n",
    "print(potencia)"
   ]
  },
  {
   "cell_type": "markdown",
   "metadata": {},
   "source": [
    "El operador `//` (división entera) divide al primer número por el segundo número y redondea hacia abajo el resultado al entero más cercano."
   ]
  },
  {
   "cell_type": "code",
   "execution_count": null,
   "metadata": {},
   "outputs": [],
   "source": [
    "divInt = a // b\n",
    "print(divInt)"
   ]
  },
  {
   "cell_type": "markdown",
   "metadata": {},
   "source": [
    "El símbolo `%` en Python se llama el Operador de Módulo. Retorna el remanente de la división del operando izquierdo por el operando derecho. Se usa para obtener el residuo de un problema de división."
   ]
  },
  {
   "cell_type": "code",
   "execution_count": null,
   "metadata": {},
   "outputs": [],
   "source": [
    "modulo = a%b\n",
    "print(modulo)"
   ]
  },
  {
   "cell_type": "markdown",
   "metadata": {
    "slideshow": {
     "slide_type": "slide"
    }
   },
   "source": [
    "***Observaciones!***\n",
    "\n",
    "- En *Python* el operador `^` representa el operador bit a bit `XOR`.\n",
    "\n",
    "\n",
    "- En *Python 2.x*, el operador división puede no hacer lo que usted esperaría que hiciera:"
   ]
  },
  {
   "cell_type": "code",
   "execution_count": null,
   "metadata": {
    "slideshow": {
     "slide_type": "subslide"
    }
   },
   "outputs": [],
   "source": [
    "minuto = 59\n",
    "minuto/60"
   ]
  },
  {
   "cell_type": "code",
   "execution_count": null,
   "metadata": {},
   "outputs": [],
   "source": [
    "7/2."
   ]
  },
  {
   "cell_type": "markdown",
   "metadata": {
    "slideshow": {
     "slide_type": "subslide"
    }
   },
   "source": [
    "- En *Python 2.x* el operador `/` realiza la operación *[floor division](https://python-reference.readthedocs.io/en/latest/docs/operators/floor_division.html)*. Cuando los operandos son enteros, el resultado es la parte entera.\n",
    "\n",
    "\n",
    "- En *Python 3.x*, el resultado es un número de punto flotante."
   ]
  },
  {
   "cell_type": "markdown",
   "metadata": {
    "slideshow": {
     "slide_type": "slide"
    }
   },
   "source": [
    "#### Operadores de Comparación (booleanos)"
   ]
  },
  {
   "cell_type": "markdown",
   "metadata": {},
   "source": [
    "En programación, los operadores de comparación se utilizan para comparar valores y evaluar hasta un único valor booleano de Verdadero o Falso. Estos valores son especialmente importantes para las expresiones condicionales y los ciclos, como veremos más adelante. Una variable de tipo booleano sólo puede tener uno dedos valores `True` (*verdadero*) o `False` (*falso*). El tipo `bool` (el tipo de los booleanos) es una subclase del tipo `int`."
   ]
  },
  {
   "cell_type": "code",
   "execution_count": null,
   "metadata": {},
   "outputs": [],
   "source": [
    "falso = False\n",
    "print(type(falso))\n",
    "print(falso)"
   ]
  },
  {
   "cell_type": "markdown",
   "metadata": {},
   "source": [
    "- Los valores booleanos son además el resultado de expresiones que utilizan operadores relacionales (comparaciones entre valores). Se tienen dos posibles respuestas: O la comparación realizada es Verdadera (`True`) o es Falsa (`False`):"
   ]
  },
  {
   "cell_type": "markdown",
   "metadata": {
    "slideshow": {
     "slide_type": "subslide"
    }
   },
   "source": [
    "| Operador    | Descripción                   | Ejemplo                   |\n",
    "| -----------:|:-----------------------------:|--------------------------:|\n",
    "| ==          | Son iguales $a$ y $b$?        | r = 5 == 3   # r es False |\n",
    "| !=          | Son distintos $a$ o $b$?      | r = 5 != 3   # r es True  |\n",
    "| <           | $a$ es menor que $b$?         | r = 5 < 3    # r es False |\n",
    "| >           | $a$ es mayor que $b$?         | r = 5 > 3    # r es True  |\n",
    "| <=          | $a$ es menor o igual que $b$? | r = 5 <= 3   # r es False |\n",
    "| >=          | $a$ es mayor o igual que $b$? | r = 5 >= 3   # r es True  |"
   ]
  },
  {
   "cell_type": "code",
   "execution_count": null,
   "metadata": {
    "slideshow": {
     "slide_type": "subslide"
    }
   },
   "outputs": [],
   "source": [
    "a = 5\n",
    "b = 3"
   ]
  },
  {
   "cell_type": "code",
   "execution_count": null,
   "metadata": {
    "slideshow": {
     "slide_type": "subslide"
    }
   },
   "outputs": [],
   "source": [
    "a == b"
   ]
  },
  {
   "cell_type": "code",
   "execution_count": null,
   "metadata": {
    "slideshow": {
     "slide_type": "subslide"
    }
   },
   "outputs": [],
   "source": [
    "a != b"
   ]
  },
  {
   "cell_type": "code",
   "execution_count": null,
   "metadata": {
    "slideshow": {
     "slide_type": "subslide"
    }
   },
   "outputs": [],
   "source": [
    "a < b"
   ]
  },
  {
   "cell_type": "code",
   "execution_count": null,
   "metadata": {
    "slideshow": {
     "slide_type": "subslide"
    }
   },
   "outputs": [],
   "source": [
    "a > b"
   ]
  },
  {
   "cell_type": "code",
   "execution_count": null,
   "metadata": {
    "slideshow": {
     "slide_type": "subslide"
    }
   },
   "outputs": [],
   "source": [
    "a <= b"
   ]
  },
  {
   "cell_type": "code",
   "execution_count": null,
   "metadata": {
    "slideshow": {
     "slide_type": "subslide"
    }
   },
   "outputs": [],
   "source": [
    "a >= b"
   ]
  },
  {
   "cell_type": "markdown",
   "metadata": {},
   "source": [
    "####  Operadores Lógicos"
   ]
  },
  {
   "cell_type": "markdown",
   "metadata": {},
   "source": [
    "Los operadores lógicos se utilizan normalmente para evaluar si dos o más expresiones son verdaderas o no. La evaluación también es o Falsa o Verdadera. Se emplea como conectores en estructuras de control de flujo condicional."
   ]
  },
  {
   "cell_type": "markdown",
   "metadata": {
    "slideshow": {
     "slide_type": "subslide"
    }
   },
   "source": [
    "| Operador    | Descripción           | Ejemplo                         |\n",
    "| -----------:|:---------------------:|--------------------------------:|\n",
    "| and         | Se cumple $a$ y $b$?  | r = True and False # r es False |\n",
    "| or          | Se cumple $a$ o $b$?  | r = True and False # r es true  |\n",
    "| not         | No $a$                | r = not True       # r es False |\n"
   ]
  },
  {
   "cell_type": "code",
   "execution_count": null,
   "metadata": {},
   "outputs": [],
   "source": [
    "a < 6 and b < a"
   ]
  },
  {
   "cell_type": "code",
   "execution_count": null,
   "metadata": {
    "scrolled": true
   },
   "outputs": [],
   "source": [
    "a < 6 or b > a"
   ]
  },
  {
   "cell_type": "markdown",
   "metadata": {},
   "source": [
    "#### Operadores entre conjuntos"
   ]
  },
  {
   "cell_type": "markdown",
   "metadata": {},
   "source": [
    "| Operador     | Descripción                                      | Ejemplo                         |\n",
    "|--------------|--------------------------------------------------|---------------------------------|\n",
    "| &          | Intersección de conjuntos.                       | `set1 & set2` da como resultado el conjunto con elementos comunes. |\n",
    "| \\|         | Unión de conjuntos.                              | `set1 \\| set2` da como resultado el conjunto combinado sin duplicados. |\n",
    "\n",
    "\n",
    "Estos operadores permiten realizar operaciones de conjuntos de manera eficiente y directa en Python, lo que facilita el trabajo con conjuntos de datos y la manipulación de elementos comunes y únicos en conjuntos. Más adelante se explicarán los conjuntos, `set`."
   ]
  },
  {
   "cell_type": "code",
   "execution_count": null,
   "metadata": {},
   "outputs": [],
   "source": [
    "set1 = {1, 2, 3, 4, 5}\n",
    "set2 = {3, 4, 5, 6, 7}"
   ]
  },
  {
   "cell_type": "code",
   "execution_count": null,
   "metadata": {},
   "outputs": [],
   "source": [
    "interseccion = set1 & set2\n",
    "print(interseccion)"
   ]
  },
  {
   "cell_type": "code",
   "execution_count": null,
   "metadata": {},
   "outputs": [],
   "source": [
    "union = set1 | set2\n",
    "print(union)"
   ]
  },
  {
   "cell_type": "markdown",
   "metadata": {},
   "source": [
    "#### Operadores de asignación"
   ]
  },
  {
   "cell_type": "markdown",
   "metadata": {},
   "source": [
    "Los operadores de asignación en Python se utilizan para asignar valores a variables a la derecha y actualizar dicha variable. \n",
    "\n",
    "| Operador | Descripción                                         | Ejemplo                              |\n",
    "|:---------|:----------------------------------------------------|--------------------------------------|\n",
    "| `=`        | Asigna el valor de la derecha a la variable a la izquierda. | `x = 5` asigna el valor 5 a la variable x. |\n",
    "| `+=`       | Añade el valor de la derecha al valor de la variable a la izquierda. | `x += 3` es equivalente a `x = x + 3`. |\n",
    "| `-=`       | Resta el valor de la derecha al valor de la variable a la izquierda. | `x -= 2` es equivalente a `x = x - 2`. |\n",
    "| `*=`       | Multiplica el valor de la variable a la izquierda por el valor de la derecha. | `x *= 4` es equivalente a `x = x * 4`. |\n",
    "| `/=`       | Divide el valor de la variable a la izquierda por el valor de la derecha. | `x /= 2` es equivalente a `x = x / 2`. |\n",
    "| `%=`       | Realiza la operación módulo entre el valor de la variable a la izquierda y el valor de la derecha. | `x %= 3` es equivalente a `x = x % 3`. |\n",
    "| `//=`      | Realiza la división entera entre el valor de la variable a la izquierda y el valor de la derecha. | `x //= 2` es equivalente a `x = x // 2`. |\n",
    "| `**=`      | Eleva el valor de la variable a la izquierda a la potencia del valor de la derecha. | `x **= 2` es equivalente a `x = x ** 2`. |\n",
    "| `&=`       | Realiza la operación AND a nivel de bit entre la variable a la izquierda y la variable a la derecha. | `x &= 3` es equivalente a `x = x & 3`. |\n",
    "| `\\|=`      | Realiza la operación OR a nivel de bit entre la variable a la izquierda y la variable a la derecha. | `x \\|= 3` es equivalente a `x = x \\| 3`. |\n",
    "| `^=`       | Realiza la operación XOR a nivel de bit entre la variable a la izquierda y la variable a la derecha. | `x ^= 3` es equivalente a `x = x ^ 3`. |\n",
    "| `>>=`      | Realiza la operación de desplazamiento a la derecha a nivel de bit entre la variable a la izquierda y la variable a la derecha. | `x >>= 2` es equivalente a `x = x >> 2`. |\n",
    "| `<<=`      | Realiza la operación de desplazamiento a la izquierda a nivel de bit entre la variable a la izquierda y la variable a la derecha. | `x <<= 2` es equivalente a `x = x << 2`. |\n",
    "\n",
    "Estos operadores de asignación son útiles para realizar operaciones específicas en las variables y actualizarlas directamente en Python."
   ]
  },
  {
   "cell_type": "markdown",
   "metadata": {},
   "source": [
    "#### Operadores de identidad"
   ]
  },
  {
   "cell_type": "markdown",
   "metadata": {},
   "source": [
    "En Python, los operadores de identidad se utilizan para comparar la identidad de dos objetos. \n",
    "\n",
    "| Operador | Descripción                    | Ejemplo                                     |\n",
    "|:---------|:-------------------------------|---------------------------------------------|\n",
    "| is       | Devuelve `True` si ambas variables son el mismo objeto.| a = [1, 2, 3]  b = a  `a is b` devuelve `True`.  |\n",
    "| is not   | Devuelve `True` si ambas variables no son el mismo objeto. | a = [1, 2, 3]  b = [1, 2, 3]  `a is not b` devuelve `True`. |\n",
    "\n",
    "Estos operadores se utilizan para verificar si dos variables se refieren al mismo objeto en la memoria. La comparación con estos operadores se basa en la identidad de los objetos y no en su valor."
   ]
  },
  {
   "cell_type": "code",
   "execution_count": null,
   "metadata": {},
   "outputs": [],
   "source": [
    "a = [1,2,3]\n",
    "b = a"
   ]
  },
  {
   "cell_type": "code",
   "execution_count": null,
   "metadata": {},
   "outputs": [],
   "source": [
    "a is b"
   ]
  },
  {
   "cell_type": "code",
   "execution_count": null,
   "metadata": {},
   "outputs": [],
   "source": [
    "a = [1,2,3]\n",
    "b = [1,2,3]"
   ]
  },
  {
   "cell_type": "code",
   "execution_count": null,
   "metadata": {},
   "outputs": [],
   "source": [
    "a is not b"
   ]
  },
  {
   "cell_type": "markdown",
   "metadata": {},
   "source": [
    "#### Operadores de pertenencia"
   ]
  },
  {
   "cell_type": "markdown",
   "metadata": {},
   "source": [
    "En Python, los operadores de pertenencia se utilizan para evaluar si una secuencia contiene un valor específico. Aquí tienes una tabla que presenta los operadores de pertenencia junto con ejemplos explicativos:\n",
    "\n",
    "| Operador | Descripción                                                 | Ejemplo                                 |\n",
    "|:---------|:------------------------------------------------------------|-----------------------------------------|\n",
    "| in       | Devuelve True si un valor se encuentra en una secuencia.    | `2 in [1, 2, 3]` devuelve True.     |\n",
    "| not in   | Devuelve True si un valor no se encuentra en una secuencia. | `5 not in [1, 2, 3]` devuelve True. |\n",
    "\n",
    "Estos operadores se utilizan para verificar la presencia de un valor en una secuencia, como una lista, tupla, conjunto o cadena."
   ]
  },
  {
   "cell_type": "code",
   "execution_count": null,
   "metadata": {},
   "outputs": [],
   "source": [
    "2 in [1,2,3]"
   ]
  },
  {
   "cell_type": "code",
   "execution_count": null,
   "metadata": {},
   "outputs": [],
   "source": [
    "5 not in [1,2,3]"
   ]
  },
  {
   "cell_type": "code",
   "execution_count": null,
   "metadata": {},
   "outputs": [],
   "source": [
    "cadena = \"Hola mundo!\""
   ]
  },
  {
   "cell_type": "code",
   "execution_count": null,
   "metadata": {},
   "outputs": [],
   "source": [
    "'o' in cadena"
   ]
  },
  {
   "cell_type": "code",
   "execution_count": null,
   "metadata": {},
   "outputs": [],
   "source": [
    "lista = [1,2,3,4,5]"
   ]
  },
  {
   "cell_type": "code",
   "execution_count": null,
   "metadata": {},
   "outputs": [],
   "source": [
    "3 in lista"
   ]
  },
  {
   "cell_type": "code",
   "execution_count": null,
   "metadata": {},
   "outputs": [],
   "source": [
    "3 not in lista"
   ]
  },
  {
   "cell_type": "markdown",
   "metadata": {
    "slideshow": {
     "slide_type": "slide"
    }
   },
   "source": [
    "### Orden de las operaciones"
   ]
  },
  {
   "cell_type": "markdown",
   "metadata": {},
   "source": [
    "Al igual que en matemáticas, el orden de las operaciones es fundamental en programación. Debe respetarse:\n",
    "\n",
    "$$Paréntesis \\rightarrow Exponentes/Potencias/Radicales \\rightarrow Multiplicaciones/Divisiones \\rightarrow Sumas/Restas$$"
   ]
  },
  {
   "cell_type": "code",
   "execution_count": null,
   "metadata": {
    "slideshow": {
     "slide_type": "subslide"
    }
   },
   "outputs": [],
   "source": [
    "(2 + 3 + 5) / 2"
   ]
  },
  {
   "cell_type": "code",
   "execution_count": null,
   "metadata": {
    "slideshow": {
     "slide_type": "subslide"
    }
   },
   "outputs": [],
   "source": [
    "2 + 3 + 5 / 2"
   ]
  },
  {
   "cell_type": "markdown",
   "metadata": {
    "slideshow": {
     "slide_type": "slide"
    }
   },
   "source": [
    "### Comentarios"
   ]
  },
  {
   "cell_type": "markdown",
   "metadata": {},
   "source": [
    "- A medida que los programas se van haciendo mayores y más complejos, se van volviendo difíciles de leer.\n",
    "<p>&nbsp;</p>\n",
    "\n",
    "- Los lenguajes formales son densos y esto dificulta la lectura y su seguimiento para entender qué hace o por qué. \n",
    "<p>&nbsp;</p>\n",
    "\n",
    "- Es buena idea adicionar notas al programa para explicar en lenguaje natural que es lo que el programa está haciendo.\n",
    "<p>&nbsp;</p>\n",
    "\n",
    "- Estas anotaciones se llaman *comentarios* y empiezan con el símbolo `#`."
   ]
  },
  {
   "cell_type": "code",
   "execution_count": null,
   "metadata": {},
   "outputs": [],
   "source": [
    "# esto es un comentario en una línea. Python no la ejecuta\n",
    "3 + 4  # este también es un comentario, y lo que está después del signo '#' python no lo ejecuta"
   ]
  },
  {
   "cell_type": "code",
   "execution_count": null,
   "metadata": {},
   "outputs": [],
   "source": [
    "'''\n",
    "Cuando se requieran hacer comentarios más extensos\n",
    "que sobrepasen dos o más líneas\n",
    "se usan tres (3) comillas simples (') o dobles (\") \n",
    "para abrir un bloque de comentarios, y otras tres para cerrarlo.\n",
    "A este tipo de bloque también se le conoce como 'docstring'\n",
    "y se emplea para realizar la documentación de una parte del código\n",
    "que después podrá verse en el help (visto arriba)\n",
    "'''\n",
    "3 + 4"
   ]
  },
  {
   "cell_type": "code",
   "execution_count": null,
   "metadata": {
    "slideshow": {
     "slide_type": "subslide"
    }
   },
   "outputs": [],
   "source": [
    "\"\"\"\n",
    "Calcula el porcentaje de horas que ha pasado\n",
    "a lo largo de una semana que\n",
    "porcentaje: indca el valor porecentual de la vble..\n",
    "minutos: es la cantidad \n",
    "horas : es lac \n",
    "\"\"\"\n",
    "porcentaje = (minuto * 100) / 60 \n",
    "print(porcentaje)"
   ]
  },
  {
   "cell_type": "code",
   "execution_count": null,
   "metadata": {
    "slideshow": {
     "slide_type": "subslide"
    }
   },
   "outputs": [],
   "source": [
    "porcentaje = (minuto * 100) / 60 # aquí me falta algo...  \n",
    "print(porcentaje)"
   ]
  },
  {
   "cell_type": "markdown",
   "metadata": {
    "slideshow": {
     "slide_type": "subslide"
    }
   },
   "source": [
    "- Los comentarios son muy útiles cuando documentan características no evidentes del código, pero hay qué evitar los comentarios \"obvios\".\n",
    "<p>&nbsp;</p>\n",
    "\n",
    "- Una buena nominación de las variables reduce la necesidad de comentarios, pero nombres largos pueden volver la expresión compleja y difícil de leer.\n",
    "<p>&nbsp;</p>\n",
    "\n",
    "- <strong>Úselos con moderación!</strong>"
   ]
  },
  {
   "cell_type": "code",
   "execution_count": null,
   "metadata": {
    "slideshow": {
     "slide_type": "subslide"
    }
   },
   "outputs": [],
   "source": [
    "\"\"\"\n",
    "Help on built-in function sum in module builtins:\n",
    "\n",
    "sum(iterable, start=0, /)\n",
    "    Return the sum of a 'start' value (default: 0) plus an iterable of numbers\n",
    "    \n",
    "    When the iterable is empty, return the start value.\n",
    "    This function is intended specifically for use with numeric values and may\n",
    "    reject non-numeric types.\n",
    "\n",
    "\"\"\"\n",
    "\n",
    "v = 5 # asigna el valor de 5 a la variable v.... obvio!!!\n",
    "\n",
    "v = 5 # Velocidad en metros/segundo... mejor..."
   ]
  },
  {
   "cell_type": "code",
   "execution_count": null,
   "metadata": {},
   "outputs": [],
   "source": [
    "help(\"sum\")"
   ]
  },
  {
   "cell_type": "markdown",
   "metadata": {
    "slideshow": {
     "slide_type": "slide"
    }
   },
   "source": [
    "## Cadenas de Caracteres (*strings*)"
   ]
  },
  {
   "cell_type": "markdown",
   "metadata": {},
   "source": [
    "Los caracteres son elementos individuales que componen un texto o una cadena (string). En el contexto de la informática y la programación, un carácter es una unidad básica de representación de datos que puede ser una letra, un número, un símbolo o un carácter especial.\n",
    "\n",
    "En Python y en muchos otros lenguajes de programación, los caracteres se representan mediante su código [Unicode](https://es.wikipedia.org/wiki/Unicode). Cada carácter tiene un valor numérico asociado en Unicode, lo que permite la representación de una amplia gama de caracteres de diferentes idiomas y símbolos.\n",
    "\n",
    "En términos prácticos, los caracteres pueden ser letras individuales, dígitos numéricos, signos de puntuación, espacios en blanco, símbolos matemáticos, emojis, entre otros. Por ejemplo, `a`, `7`, `?`, `%`, `😊` son todos caracteres.\n",
    "\n",
    "En Python, puedes manipular caracteres dentro de cadenas de texto, accediendo a ellos por su posición en la cadena mediante índices. Esto permite realizar operaciones específicas en caracteres individuales o en subconjuntos de caracteres dentro de una cadena."
   ]
  },
  {
   "cell_type": "markdown",
   "metadata": {},
   "source": [
    "### creación de cadenas de caracteres"
   ]
  },
  {
   "cell_type": "markdown",
   "metadata": {},
   "source": [
    "Las cadenas de caracteres, o strings en Python, son secuencias de caracteres encerradas entre comillas simples ('...') o dobles (\"...\"). Pueden contener letras, números, símbolos, espacios y caracteres especiales."
   ]
  },
  {
   "cell_type": "code",
   "execution_count": null,
   "metadata": {},
   "outputs": [],
   "source": [
    "cadena1 = \"Hola mundo!\"\n",
    "print(cadena1)"
   ]
  },
  {
   "cell_type": "code",
   "execution_count": null,
   "metadata": {},
   "outputs": [],
   "source": [
    "type(cadena1)"
   ]
  },
  {
   "cell_type": "code",
   "execution_count": null,
   "metadata": {},
   "outputs": [],
   "source": [
    "cadena2 = \"123456789\"\n",
    "print(cadena2)"
   ]
  },
  {
   "cell_type": "code",
   "execution_count": null,
   "metadata": {},
   "outputs": [],
   "source": [
    "type(cadena2)"
   ]
  },
  {
   "cell_type": "code",
   "execution_count": null,
   "metadata": {},
   "outputs": [],
   "source": [
    "cadena3 = 'Soy Carlos y mido 175 cm!'\n",
    "print(cadena2)"
   ]
  },
  {
   "cell_type": "code",
   "execution_count": null,
   "metadata": {},
   "outputs": [],
   "source": [
    "type(cadena3)"
   ]
  },
  {
   "cell_type": "markdown",
   "metadata": {},
   "source": [
    "### Concatenación de cadenas"
   ]
  },
  {
   "cell_type": "markdown",
   "metadata": {},
   "source": [
    "Se puede unir cadenas usando el operador `+` o simplemente colocándolas una al lado de la otra"
   ]
  },
  {
   "cell_type": "code",
   "execution_count": null,
   "metadata": {},
   "outputs": [],
   "source": [
    "cadena1 = \"Hola\"\n",
    "cadena2 = \" \"\n",
    "cadena3 = \"Mundo\"\n",
    "cadena4 = \"!!!\"\n",
    "\n",
    "cadena = cadena1 + cadena2 + cadena3 + cadena4\n",
    "cadena"
   ]
  },
  {
   "cell_type": "markdown",
   "metadata": {},
   "source": [
    "### Repetición"
   ]
  },
  {
   "cell_type": "markdown",
   "metadata": {},
   "source": [
    "Una cadena de caracteres puede repetirse con el operador asterisco `*`"
   ]
  },
  {
   "cell_type": "code",
   "execution_count": null,
   "metadata": {},
   "outputs": [],
   "source": [
    "cadena1 = \"Hola \""
   ]
  },
  {
   "cell_type": "code",
   "execution_count": null,
   "metadata": {
    "slideshow": {
     "slide_type": "subslide"
    }
   },
   "outputs": [],
   "source": [
    "cadena4 = 4 * cadena1\n",
    "cadena4"
   ]
  },
  {
   "cell_type": "code",
   "execution_count": null,
   "metadata": {},
   "outputs": [],
   "source": [
    "variable = float(input(\"Ingrese un número\"))\n",
    "numero = 10 * variable\n",
    "numero"
   ]
  },
  {
   "cell_type": "code",
   "execution_count": null,
   "metadata": {},
   "outputs": [],
   "source": [
    "print(type(variable))\n",
    "variable"
   ]
  },
  {
   "cell_type": "markdown",
   "metadata": {},
   "source": [
    "### Indexación"
   ]
  },
  {
   "cell_type": "markdown",
   "metadata": {},
   "source": [
    "Una cadena de caracteres (string) en `Python` consiste de una serie, o secuencia, de caracteres (letras, números y caracteres especiales). Las cadenas de caracteres pueden indexarse, similar al $C$, en donde el primer caracter tiene índice `0`. \n",
    "\n",
    "*El índice se refiere a la posición que ocupa el caracter* (esto también será válido para otras estructuras de datos que tiene python, como tuplas, listas y arreglos). \n",
    "\n",
    "- Si se lee de ***izquierda a derecha***, el índice aumenta positivamente empezando en cero: $0, 1, 2, \\ldots$ y va hasta la cantidad de caracteres, $n$, menos uno (porque empezó en cero): $n-1$. Esta será la posición del último elemento, leyéndose de izquierda a derecha.\n",
    "<p>&nbsp;</p>\n",
    "\n",
    "- Si se lee de ***derecha a izquierda***, el índice empieza en `-1` y aumenta negativamente: $-1,-2,-3, \\ldots$\n",
    "\n",
    "<p float=\"center\">\n",
    "  <img src=\"https://github.com/carlosalvarezh/FundamentosProgramacion/blob/main/images/Sem03Img01.png?raw=true\" width=\"750\" />\n",
    "</p>\n",
    "\n",
    "En este ejemplo, se observa que el primer caracter ($H$) está ubicado en la posición etiquetada con el índice $0$ y el último elemento estará en la posición etiquetada con el índice $10$. La longitud (extensión o cantidad de elementos) de la cadena de caracteres mostrada es de $11$. \n",
    "\n",
    "<div class=\"alert alert-danger\"><strong>Nota:</strong> No confundir la cantidad de elementos (len) que contiene una cadena de caracteres (lista, tupla o arreglo) con la posición de cada elemento (index), que se da por el índice. El índice empieza en cero (0) y para contabilizar la cantidad de elementos se empieza en uno, (1).</div>"
   ]
  },
  {
   "cell_type": "code",
   "execution_count": null,
   "metadata": {},
   "outputs": [],
   "source": [
    "a = \"Hello World\"\n",
    "print(a)"
   ]
  },
  {
   "cell_type": "markdown",
   "metadata": {},
   "source": [
    "La cantidad de elementos que contiene una cadena de caracteres se puede determinar con la función `len()`.\n",
    "\n",
    "```python\n",
    "len(nombreVariable)\n",
    "```"
   ]
  },
  {
   "cell_type": "code",
   "execution_count": null,
   "metadata": {},
   "outputs": [],
   "source": [
    "long_a = len(a)\n",
    "long_a"
   ]
  },
  {
   "cell_type": "markdown",
   "metadata": {},
   "source": [
    "Para acceder a un elemento dentro de una cadena de caracteres (válido para tupla, lista o arreglo, que se verán más adelante), se debe escribir el nombre de la variable y entre corchetes cuadrados, `[]`, escribir el índice que indica la posición del elemento a accederse:\n",
    "\n",
    "```python\n",
    "nombreVariable[index]\n",
    "```"
   ]
  },
  {
   "cell_type": "code",
   "execution_count": null,
   "metadata": {},
   "outputs": [],
   "source": [
    "a[0] # se accede al primer elemento, o cualquier elemento dentro de la cadena"
   ]
  },
  {
   "cell_type": "code",
   "execution_count": null,
   "metadata": {},
   "outputs": [],
   "source": [
    "a[10] #se accede al último elemento visto de izquierda a derecha"
   ]
  },
  {
   "cell_type": "markdown",
   "metadata": {},
   "source": [
    "otra forma de acceder al último elemento es de derecha a izquierda"
   ]
  },
  {
   "cell_type": "code",
   "execution_count": null,
   "metadata": {},
   "outputs": [],
   "source": [
    "a[-1] #se accede al último elemento visto de derecha a izquierda"
   ]
  },
  {
   "cell_type": "markdown",
   "metadata": {},
   "source": [
    "Se puede automatizar aprovechando la función `len()` vista:"
   ]
  },
  {
   "cell_type": "code",
   "execution_count": null,
   "metadata": {},
   "outputs": [],
   "source": [
    "a[len(a) - 1]"
   ]
  },
  {
   "cell_type": "markdown",
   "metadata": {},
   "source": [
    "No olvide restar `1` a la cantidad (longitud) de elementos, ya que produciría un error de desbordamiento.\n",
    "\n",
    "Si necesita almacenar el dato de la cantidad, se puede hacer lo siguiente:"
   ]
  },
  {
   "cell_type": "code",
   "execution_count": null,
   "metadata": {},
   "outputs": [],
   "source": [
    "n = len(a) #calcula la cantidad de elementos de la cadena\n",
    "a[n - 1]   #accede al último elemento de la cadena"
   ]
  },
  {
   "cell_type": "markdown",
   "metadata": {},
   "source": [
    "Incluso esta forma es más usada, tanto por claridad en el código como por la posibilidad de usar dicho valor para otros cálculos más adelante en el código y evitar recalcular dicho valor."
   ]
  },
  {
   "cell_type": "markdown",
   "metadata": {},
   "source": [
    "### Métodos"
   ]
  },
  {
   "cell_type": "markdown",
   "metadata": {},
   "source": [
    "En Python, los métodos son funciones que están asociadas a objetos y son invocadas sobre esos objetos. Los métodos son parte integral de la programación orientada a objetos (OOP) en Python. En OOP, los objetos tienen propiedades (llamadas atributos) y comportamientos (llamados métodos). Los métodos son funciones definidas dentro de la clase y operan en instancias de esa clase.\n",
    "Para saber cuáles métodos se aplican al objeto (variable) en mención, basta con escrirbir el nombre del objeto (variable) seguido de un punto (.):\n",
    "\n",
    "```python\n",
    "nombre.\n",
    "```\n",
    "\n",
    "esto desplegará un menú contextual con los diferentes métodos asociados a ese objeto (variable)\n",
    "\n",
    "\n",
    "Algunos métodos para cadenas de caracteres en python son:"
   ]
  },
  {
   "cell_type": "code",
   "execution_count": null,
   "metadata": {},
   "outputs": [],
   "source": [
    "#creación de la cadena de caracteres\n",
    "cadena = \"    Hola mundo!   \" \n",
    "cadena"
   ]
  },
  {
   "cell_type": "code",
   "execution_count": null,
   "metadata": {},
   "outputs": [],
   "source": [
    "cadena. #con la tecla 'tab' después del punto se accede al menú contextual de los métodos para la cadena."
   ]
  },
  {
   "cell_type": "code",
   "execution_count": null,
   "metadata": {},
   "outputs": [],
   "source": [
    "#Elimina los espacios sobrantes al inicio y al final de la cadena\n",
    "cadena = cadena.strip() \n",
    "cadena"
   ]
  },
  {
   "cell_type": "code",
   "execution_count": null,
   "metadata": {},
   "outputs": [],
   "source": [
    "#convierte todos los caracteres a minúsculas\n",
    "cadena.lower() "
   ]
  },
  {
   "cell_type": "code",
   "execution_count": null,
   "metadata": {},
   "outputs": [],
   "source": [
    "#convierte todos los caracteres a mayúsculas\n",
    "cadena.upper() "
   ]
  },
  {
   "cell_type": "code",
   "execution_count": null,
   "metadata": {},
   "outputs": [],
   "source": [
    "#convierte en mayúscula el primer caracter\n",
    "cadena.capitalize() "
   ]
  },
  {
   "cell_type": "code",
   "execution_count": null,
   "metadata": {},
   "outputs": [],
   "source": [
    "#convierte en mayúscula el primer caracter de cada cadena\n",
    "cadena.title() "
   ]
  },
  {
   "cell_type": "code",
   "execution_count": null,
   "metadata": {},
   "outputs": [],
   "source": [
    "#reemplaza una subcadena por otra subcadena\n",
    "nueva_cadena = cadena.replace(\"mundo!\", \"Python!\")\n",
    "nueva_cadena"
   ]
  },
  {
   "cell_type": "code",
   "execution_count": null,
   "metadata": {},
   "outputs": [],
   "source": [
    "#divide una cadena en una lista de subcadenas, utilizando el separador\n",
    "#indicado como criterio (en este ejemplo el espacio en blanco)\n",
    "nueva_cadena.split(\" \")"
   ]
  },
  {
   "cell_type": "code",
   "execution_count": null,
   "metadata": {},
   "outputs": [],
   "source": [
    "#concatenar elementos\n",
    "palabras = [\"Hola\", \"mundo\", \",\", \"cómo\", \"estás\"]\n",
    "cadena_concatenada = \" \".join(palabras)\n",
    "cadena_concatenada"
   ]
  },
  {
   "cell_type": "code",
   "execution_count": null,
   "metadata": {},
   "outputs": [],
   "source": [
    "#indica la posición de la primera ocurrencia del caracter solicitado\n",
    "cadena.find('a')"
   ]
  },
  {
   "cell_type": "code",
   "execution_count": null,
   "metadata": {},
   "outputs": [],
   "source": [
    "#cuenta las ocurrencias de un caracter en una cadena\n",
    "cadena.count('o')"
   ]
  },
  {
   "cell_type": "code",
   "execution_count": null,
   "metadata": {},
   "outputs": [],
   "source": [
    "#verifica si todos los caracteres en la cadena son alfabéticos\n",
    "cadena.isalpha()"
   ]
  },
  {
   "cell_type": "code",
   "execution_count": null,
   "metadata": {},
   "outputs": [],
   "source": [
    "#verifica si todos los caracteres en la cadena son digitos (números del 0 - 9)\n",
    "cadena.isdigit()"
   ]
  },
  {
   "cell_type": "code",
   "execution_count": null,
   "metadata": {},
   "outputs": [],
   "source": [
    "#verifica si todos los caracteres en la cadena son alfanuméricos \n",
    "#números y letras,sin incluir caracteres especiales\n",
    "cadena.isalnum()"
   ]
  },
  {
   "cell_type": "code",
   "execution_count": null,
   "metadata": {},
   "outputs": [],
   "source": [
    "#isnumeric verifica si todos los caracteres en la cadena son numéricos\n",
    "#no solamente los dígitos del 0 al 9, sino también números en otros idiomas, superíndices, etc.\n",
    "cadena1 = \"12345\"\n",
    "cadena2 = \"½\"\n",
    "cadena3 = \"٤٥٦\"  # Números árabes\n",
    "\n",
    "print(cadena1.isnumeric())  # Salida: True\n",
    "print(cadena2.isnumeric())  # Salida: True\n",
    "print(cadena3.isnumeric())  # Salida: True"
   ]
  },
  {
   "cell_type": "markdown",
   "metadata": {},
   "source": [
    "### Particionado (slicing)"
   ]
  },
  {
   "cell_type": "markdown",
   "metadata": {},
   "source": [
    "Si se desea acceder a un bloque de elementos de la cadena de caracteres, se usa el particionado (slice). Para ello, se usa la siguiente notación:\n",
    "\n",
    "```pythoon\n",
    "nombreVariable[start:stop:step]\n",
    "```\n",
    "\n",
    "donde:\n",
    "\n",
    "- `start`: Índice desde donde empieza el slicing. Este índice está incluido en el resultado.\n",
    "- `stop`: Índice hasta donde se llega en el slicing. Este índice no está incluido en el resultado.\n",
    "- `step`(opcional): Especifica el incremento entre los índices. Por defecto, es 1."
   ]
  },
  {
   "cell_type": "code",
   "execution_count": null,
   "metadata": {
    "scrolled": true
   },
   "outputs": [],
   "source": [
    "cadena = \"Hola Mundo!\"\n",
    "print(cadena)"
   ]
  },
  {
   "cell_type": "markdown",
   "metadata": {},
   "source": [
    "Si no se indica los índices, por defecto los valores son: `start=0`, `stop=len(nombreVariable)` y `step=1`, es decir, muestra la cadena completa:"
   ]
  },
  {
   "cell_type": "code",
   "execution_count": null,
   "metadata": {},
   "outputs": [],
   "source": [
    "cadena[::]"
   ]
  },
  {
   "cell_type": "code",
   "execution_count": null,
   "metadata": {},
   "outputs": [],
   "source": [
    "cadena[0::]"
   ]
  },
  {
   "cell_type": "code",
   "execution_count": null,
   "metadata": {},
   "outputs": [],
   "source": [
    "n = len(cadena)\n",
    "cadena[:n:]"
   ]
  },
  {
   "cell_type": "code",
   "execution_count": null,
   "metadata": {},
   "outputs": [],
   "source": [
    "cadena[::1]"
   ]
  },
  {
   "cell_type": "markdown",
   "metadata": {},
   "source": [
    "Si se desea acceder a un bloque dentro de la cadena, se indican los índices desde donde se desea empezar, hasta el elemento inmediatamente superior al que se desea acceder. Veamos el siguiente ejemplo:"
   ]
  },
  {
   "cell_type": "code",
   "execution_count": null,
   "metadata": {
    "scrolled": true
   },
   "outputs": [],
   "source": [
    "cadena[5:11:1]"
   ]
  },
  {
   "cell_type": "markdown",
   "metadata": {},
   "source": [
    "<div class=\"alert alert-danger\">\n",
    "  <strong>Nota:</strong> Se invita al estudiante a explorar otras posibilidades que se tienen para realizar el particionado, cambiando los parámetros start, stop y step según sea necesario. Como ejemplo, para obtener la cadena en sentido inverso:\n",
    "</div>"
   ]
  },
  {
   "cell_type": "code",
   "execution_count": null,
   "metadata": {
    "scrolled": true
   },
   "outputs": [],
   "source": [
    "cadena[::-1]"
   ]
  },
  {
   "cell_type": "markdown",
   "metadata": {},
   "source": [
    "o mostrando únicamente los elementos que tienen los índices pares:"
   ]
  },
  {
   "cell_type": "code",
   "execution_count": null,
   "metadata": {},
   "outputs": [],
   "source": [
    "print(cadena[0:n:2])"
   ]
  },
  {
   "cell_type": "markdown",
   "metadata": {},
   "source": [
    "### Caracteres especiales"
   ]
  },
  {
   "cell_type": "markdown",
   "metadata": {},
   "source": [
    "En Python, existen caracteres especiales que te permiten incluir formatos específicos dentro de las cadenas de caracteres. Algunos de estos caracteres son:"
   ]
  },
  {
   "cell_type": "markdown",
   "metadata": {},
   "source": [
    "- ***`\\n` - Salto de línea:*** Este caracter representa un salto de línea, lo que significa que todo lo que viene después se escribirá en una nueva línea."
   ]
  },
  {
   "cell_type": "code",
   "execution_count": null,
   "metadata": {
    "scrolled": true
   },
   "outputs": [],
   "source": [
    "cadena = 'Hola \\nmundo'\n",
    "print(cadena)"
   ]
  },
  {
   "cell_type": "markdown",
   "metadata": {},
   "source": [
    "- ***`\\t` - Tabulación:*** Inserta un espacio equivalente al ancho de una tabulación."
   ]
  },
  {
   "cell_type": "code",
   "execution_count": null,
   "metadata": {},
   "outputs": [],
   "source": [
    "cadena = \"Hola \\tMundo!\"\n",
    "print(cadena)"
   ]
  },
  {
   "cell_type": "markdown",
   "metadata": {},
   "source": [
    "- ***`\\` - Barra invertida:*** Se utiliza para escapar caracteres especiales. Si quieres incluir la propia barra invertida en una cadena, debes usar \\\\."
   ]
  },
  {
   "cell_type": "code",
   "execution_count": null,
   "metadata": {},
   "outputs": [],
   "source": [
    "ruta = \"C:\\\\Directorio\\\\Archivo.txt\"\n",
    "print(ruta)"
   ]
  },
  {
   "cell_type": "markdown",
   "metadata": {},
   "source": [
    "- ***`\\'` y `\\\"` - Comillas simples y dobles:*** Se usan para incluir comillas simples o dobles dentro de una cadena que ya está delimitada por comillas del mismo tipo. Por ejemplo, si se quiere hacer una cita textual a algo:"
   ]
  },
  {
   "cell_type": "code",
   "execution_count": null,
   "metadata": {
    "scrolled": true
   },
   "outputs": [],
   "source": [
    "cita = \"Ella dijo: \"Hola\"\"\n",
    "print(cita)"
   ]
  },
  {
   "cell_type": "code",
   "execution_count": null,
   "metadata": {},
   "outputs": [],
   "source": [
    "cita = \"Ella dijo: \\\"Hola\\\"\"\n",
    "print(cita)"
   ]
  },
  {
   "cell_type": "markdown",
   "metadata": {
    "slideshow": {
     "slide_type": "slide"
    }
   },
   "source": [
    "## I/O Estándar"
   ]
  },
  {
   "cell_type": "markdown",
   "metadata": {
    "slideshow": {
     "slide_type": "-"
    }
   },
   "source": [
    "El manejo de entrada/salida (I/O) en los lenguajes de programación permite que los programas interactúen con el entorno externo, ya sea para recibir información, mostrar resultados o almacenar datos en archivos. Esta interacción es crucial en muchas aplicaciones y para varios propósitos:\n",
    "\n",
    "- ***Interacción con el usuario:*** Los programas a menudo necesitan recibir información de los usuarios. El uso de la entrada estándar permite que un programa solicite datos al usuario a través del teclado, lo que facilita la interactividad y la personalización.\n",
    "<p>&nbsp;</p>\n",
    "\n",
    "- ***Presentación de resultados:*** La salida estándar permite que los programas muestren información al usuario en la consola o terminal. Esto es crucial para informar sobre el estado del programa, mostrar resultados de cálculos o proporcionar mensajes relevantes al usuario.\n",
    "<p>&nbsp;</p>\n",
    "\n",
    "- ***Manejo de archivos:*** La capacidad de leer y escribir datos desde y hacia archivos externos es fundamental para almacenar información de manera permanente. Esto es crucial en aplicaciones que manejan grandes cantidades de datos que deben preservarse incluso después de que el programa termine de ejecutarse.\n",
    "<p>&nbsp;</p>\n",
    "\n",
    "- ***Comunicación entre programas:*** En entornos de desarrollo más amplios, los programas a menudo necesitan comunicarse entre sí. La entrada/salida es una forma estándar de intercambiar datos entre diferentes aplicaciones o componentes de un sistema.\n",
    "<p>&nbsp;</p>\n",
    "\n",
    "- ***Automatización de tareas:*** En muchas aplicaciones, especialmente en scripts y programas de automatización, la entrada/salida es crucial para recibir y procesar datos de manera eficiente, lo que permite la ejecución automatizada de tareas repetitivas.\n",
    "\n",
    "El manejo efectivo de la entrada/salida en los lenguajes de programación es esencial para la interacción con el usuario, el procesamiento de datos y la comunicación entre programas, permitiendo que las aplicaciones sean más interactivas, versátiles y útiles en una variedad de contextos.\n",
    "\n",
    "- En *Python3* la función estandar para el ingreso de datos por teclado es `input()`\n",
    "<p>&nbsp;</p>\n",
    "\n",
    "- En *Python2* es `raw_input()`\n",
    "<p>&nbsp;</p>\n",
    "\n",
    "- La salida por defecto es la función `print()`, que si bien es la más \"simplista\" no es la más elegante."
   ]
  },
  {
   "cell_type": "markdown",
   "metadata": {},
   "source": [
    "### Input"
   ]
  },
  {
   "cell_type": "markdown",
   "metadata": {},
   "source": [
    "El comando [`input()`](https://docs.python.org/3/library/functions.html#input) en Python es una función integrada que ***permite recibir datos del usuario a través del teclado***. Esencialmente, solicita una entrada al usuario y espera a que se ingrese algún tipo de información, la cual se guarda en una variable para su posterior uso en el programa.\n",
    "\n",
    "A un nivel básico, input() se utiliza de la siguiente manera:"
   ]
  },
  {
   "cell_type": "code",
   "execution_count": null,
   "metadata": {},
   "outputs": [],
   "source": [
    "a = input()"
   ]
  },
  {
   "cell_type": "markdown",
   "metadata": {},
   "source": [
    "Al ejecutarse el anterior comando se observa que el prompt (línea vertical titilante dentro de la caja) queda a la espera que el usuario ingrese un dato por teclado. Presentado de esta forma, no se da mucha información de qué es lo que el usuario debe hacer. Para evitar esto, se puede colocar un mensaje como cadena de caracteres (string) dentro del paréntesis:"
   ]
  },
  {
   "cell_type": "code",
   "execution_count": null,
   "metadata": {},
   "outputs": [],
   "source": [
    "a = input(\"Ingrese el dato a:\")"
   ]
  },
  {
   "cell_type": "markdown",
   "metadata": {},
   "source": [
    "Lo que se ha hecho es solicitar un dato al usuario ingresado por teclado (en este caso, el caracter '5'). Veamos qué tipo de dato fue el ingresado:"
   ]
  },
  {
   "cell_type": "code",
   "execution_count": null,
   "metadata": {},
   "outputs": [],
   "source": [
    "type(a)"
   ]
  },
  {
   "cell_type": "markdown",
   "metadata": {},
   "source": [
    "<div class=\"alert alert-danger\">\n",
    "  <strong>Nota:</strong> Los datos ingresados por teclado son de tipo string (cadena de caracteres).\n",
    "</div>\n",
    "\n",
    "Si ingresamos un valor numérico y deseamos realizar algún cálculo matemático, veamos qué sucede:"
   ]
  },
  {
   "cell_type": "code",
   "execution_count": null,
   "metadata": {
    "scrolled": true
   },
   "outputs": [],
   "source": [
    "z = 5 + a #ingenuamente se esperaría el valor 10 como resultado."
   ]
  },
  {
   "cell_type": "markdown",
   "metadata": {},
   "source": [
    "Observe que sale un mensaje de error que indica que se tienen dos tipos de datos (int y str) que no son compatibles para dicha operación. Para resolver el problema, es necesario asignar previamente el tipo de dato a ingresar. En este ejemplo estamos ingresando un dato tipo entero (int)."
   ]
  },
  {
   "cell_type": "code",
   "execution_count": null,
   "metadata": {},
   "outputs": [],
   "source": [
    "a = int(input(\"Ingrese el dato a: \"))\n",
    "z = 5 + a"
   ]
  },
  {
   "cell_type": "code",
   "execution_count": null,
   "metadata": {
    "slideshow": {
     "slide_type": "subslide"
    }
   },
   "outputs": [],
   "source": [
    "nombre = float(input(\"Cuál es tu peso?\"))\n",
    "print(type(nombre))\n",
    "peso1 = nombre*3.5\n",
    "print(type(peso1))\n",
    "print(\"Hola\", nombre)"
   ]
  },
  {
   "cell_type": "code",
   "execution_count": null,
   "metadata": {
    "slideshow": {
     "slide_type": "subslide"
    }
   },
   "outputs": [],
   "source": [
    "nombre = input(\"Cuál es tu nombre? \")\n",
    "print(\"mucho gusto \" + nombre + \"!\")\n",
    "edad1 = int(input(\"y cuál es tu edad? \"))\n",
    "edad = edad1 + 10\n",
    "print(\"su edad es \", edad)\n",
    "print(\"entonces tienes \" + str(edad) + \" años, \" + nombre + \"!\")"
   ]
  },
  {
   "cell_type": "code",
   "execution_count": null,
   "metadata": {},
   "outputs": [],
   "source": [
    "4*edad"
   ]
  },
  {
   "cell_type": "code",
   "execution_count": null,
   "metadata": {
    "scrolled": true,
    "slideshow": {
     "slide_type": "subslide"
    }
   },
   "outputs": [],
   "source": [
    "x = int(input(\"Ingrese un número: \"))\n",
    "y = int(input(\"Ingrese otro número: \"))\n",
    "xy  = x / y\n",
    "print('La división de ' + str(x) + ' y ' + str(y) + ' es ' + str(xy)) #error"
   ]
  },
  {
   "cell_type": "code",
   "execution_count": null,
   "metadata": {
    "slideshow": {
     "slide_type": "subslide"
    }
   },
   "outputs": [],
   "source": [
    "x = input(\"Ingrese un número: \")\n",
    "y = input(\"Ingrese otro número: \")\n",
    "suma = x + y\n",
    "print('La suma de ', x, ' y ', y, ' es ', x+y, '.') #error"
   ]
  },
  {
   "cell_type": "code",
   "execution_count": null,
   "metadata": {
    "slideshow": {
     "slide_type": "subslide"
    }
   },
   "outputs": [],
   "source": [
    "x = int(input(\"Ingrese un número: \"))\n",
    "y = int(input(\"Ingrese otro número: \"))\n",
    "suma = x + y\n",
    "print('La suma de ', x, ' y ', y, ' es ', x+y, '.', sep='')\n",
    "print(\"La suma de %5d y %5d es %5d\" % (x, y, suma))"
   ]
  },
  {
   "cell_type": "code",
   "execution_count": null,
   "metadata": {},
   "outputs": [],
   "source": [
    "pesos = 1545268.2356987568466849846516198141964\n",
    "print(pesos)"
   ]
  },
  {
   "cell_type": "markdown",
   "metadata": {
    "slideshow": {
     "slide_type": "slide"
    }
   },
   "source": [
    "### Formatación a la \"antigua\""
   ]
  },
  {
   "cell_type": "markdown",
   "metadata": {},
   "source": [
    "- La funcionalidad del `printf` de $\\texttt{C}$ está contenida en *Python*.\n",
    "\n",
    "\n",
    "- Para esto, se usa el operador módulo `%` para concatenar las cadenas de texto que conformarán el mensaje."
   ]
  },
  {
   "cell_type": "markdown",
   "metadata": {
    "slideshow": {
     "slide_type": "subslide"
    }
   },
   "source": [
    "<p float=\"center\">\n",
    "  <img src=\"https://github.com/carlosalvarezh/FundamentosProgramacion/blob/main/images/Sem03Img02.png?raw=true\" width=\"750\" />\n",
    "</p>\n",
    "\n",
    "Recuperado de: http://www.python-course.eu/python3_formatted_output.php"
   ]
  },
  {
   "cell_type": "code",
   "execution_count": null,
   "metadata": {},
   "outputs": [],
   "source": [
    "articulo = 845\n",
    "nombre = \"yuca\"\n",
    "precio = 3256.3289\n",
    "\n",
    "print(\"Art:%5d, que es una %s Price per unit: %1.2f que es una %s\" % (articulo, nombre, precio, nombre))"
   ]
  },
  {
   "cell_type": "markdown",
   "metadata": {},
   "source": [
    "- Al lado izquierdo del operador módulo, se encuentra el llamado formato de cadena de caracteres y al lado derecho hay una tupla con el contenido.\n",
    "\n",
    "\n",
    "- Los valores pueden ser literales, variables o expresiones aritméticas arbitrarias.\n",
    "\n",
    "\n",
    "- El formato visto contiene lo que se denominan *marcadores de posición*. En el ejemplo hay dos: `%5d` y `%8.2f`"
   ]
  },
  {
   "cell_type": "markdown",
   "metadata": {
    "slideshow": {
     "slide_type": "subslide"
    }
   },
   "source": [
    "<p float=\"center\">\n",
    "  <img src=\"https://github.com/carlosalvarezh/FundamentosProgramacion/blob/main/images/Sem03Img03.png?raw=true\" width=\"350\" />\n",
    "</p>\n",
    "\n",
    "\n",
    "Recuperado de: http://www.python-course.eu/python3_formatted_output.php"
   ]
  },
  {
   "cell_type": "markdown",
   "metadata": {
    "slideshow": {
     "slide_type": "subslide"
    }
   },
   "source": [
    "<p float=\"center\">\n",
    "  <img src=\"https://github.com/carlosalvarezh/FundamentosProgramacion/blob/main/images/Sem03Img04.png?raw=true\" width=\"500\" />\n",
    "</p>\n",
    "\n",
    "Recuperado de: http://www.python-course.eu/python3_formatted_output.php"
   ]
  },
  {
   "cell_type": "markdown",
   "metadata": {
    "slideshow": {
     "slide_type": "slide"
    }
   },
   "source": [
    "### Formatos de salida"
   ]
  },
  {
   "cell_type": "markdown",
   "metadata": {},
   "source": [
    "| Identificador    | Formato           |\n",
    "| ----------------:|:-----------------:|\n",
    "| %s               | Cadena (string)   |\n",
    "| %d               | Entero (integer)  |\n",
    "| %o               | Octal             |\n",
    "| %x               | Hexadecimal       |\n",
    "| %f               | Flotante          |"
   ]
  },
  {
   "cell_type": "code",
   "execution_count": null,
   "metadata": {
    "slideshow": {
     "slide_type": "subslide"
    }
   },
   "outputs": [],
   "source": [
    "x = int(input(\"Ingrese un número: \"))\n",
    "y = int(input(\"Ingrese otro número: \"))\n",
    "suma = x + y\n",
    "print(\"La suma de %d y %d es %d\" % (x,y,suma)) "
   ]
  },
  {
   "cell_type": "code",
   "execution_count": null,
   "metadata": {
    "slideshow": {
     "slide_type": "subslide"
    }
   },
   "outputs": [],
   "source": [
    "print(\"%10.3e\"% (356.08977))\n",
    "print(\"%10.3E\"% (356.08977))\n",
    "print(\"Un signo de porcentaje: %% \" % ())\n",
    "print(\"este es un entero %d y %d y %d\" % (3, 3, 3))"
   ]
  },
  {
   "cell_type": "code",
   "execution_count": null,
   "metadata": {
    "slideshow": {
     "slide_type": "subslide"
    }
   },
   "outputs": [],
   "source": [
    "print(\"Por la compra de %d %s y %d %s debes $%f \" % (5, \"manzanas\", 7, \"peras\", 2500.50))"
   ]
  },
  {
   "cell_type": "code",
   "execution_count": null,
   "metadata": {
    "slideshow": {
     "slide_type": "subslide"
    }
   },
   "outputs": [],
   "source": [
    "print(\"Por la compra de %d %s y %d %s debes $%0.2f \" % (5, \"manzanas\", 7, \"peras\", 2500.50))"
   ]
  },
  {
   "cell_type": "markdown",
   "metadata": {
    "slideshow": {
     "slide_type": "slide"
    }
   },
   "source": [
    "### Formatación *Pytonista* (string format)"
   ]
  },
  {
   "cell_type": "markdown",
   "metadata": {},
   "source": [
    "<p float=\"center\">\n",
    "  <img src=\"https://github.com/carlosalvarezh/FundamentosProgramacion/blob/main/images/Sem03Img05.png?raw=true\" width=\"750\" />\n",
    "</p>\n"
   ]
  },
  {
   "cell_type": "code",
   "execution_count": null,
   "metadata": {},
   "outputs": [],
   "source": [
    "articulo = 845\n",
    "nombre = \"yuca\"\n",
    "precio = 3256.3289\n",
    "\n",
    "print(\"una {1:s} cuyo Price per unit: {2:1.2f}, del Art: {0:5d},que es una {1:s}\".format(articulo,nombre, precio))"
   ]
  },
  {
   "cell_type": "code",
   "execution_count": null,
   "metadata": {
    "slideshow": {
     "slide_type": "subslide"
    }
   },
   "outputs": [],
   "source": [
    "txt = \"texto\"\n",
    "print(\"Primer argumento: {0}, segundo argumento: {0}\".format(txt))"
   ]
  },
  {
   "cell_type": "code",
   "execution_count": null,
   "metadata": {
    "slideshow": {
     "slide_type": "subslide"
    }
   },
   "outputs": [],
   "source": [
    "print(\"Segundo argumento: {1}, primer argumento: {0}\".format(47,11))"
   ]
  },
  {
   "cell_type": "code",
   "execution_count": null,
   "metadata": {
    "slideshow": {
     "slide_type": "subslide"
    }
   },
   "outputs": [],
   "source": [
    "print(\"Segundo argumento: {1:3d}, \\nprimer argumento: {0:5.2f}\".format(47.42,11))"
   ]
  },
  {
   "cell_type": "markdown",
   "metadata": {
    "slideshow": {
     "slide_type": "subslide"
    }
   },
   "source": [
    "[Aquí](http://www.python-course.eu/python3_formatted_output.php \"Formatting in Python\") encontrará información ampliada acerca de otros esquemas de formatación en *Python*: "
   ]
  },
  {
   "cell_type": "markdown",
   "metadata": {
    "slideshow": {
     "slide_type": "slide"
    }
   },
   "source": [
    "### Salto de Línea `\\n`"
   ]
  },
  {
   "cell_type": "code",
   "execution_count": null,
   "metadata": {},
   "outputs": [],
   "source": [
    "print(\"Hola\\nmundo\")"
   ]
  },
  {
   "cell_type": "markdown",
   "metadata": {},
   "source": [
    "[Volver a la Tabla de Contenido](#TOC)"
   ]
  },
  {
   "cell_type": "markdown",
   "metadata": {
    "slideshow": {
     "slide_type": "slide"
    }
   },
   "source": [
    "## Laboratorio"
   ]
  },
  {
   "cell_type": "markdown",
   "metadata": {},
   "source": [
    "Para cada uno de los siguientes ejercicios, desarrolle un código en Python empleando únicamente los comandos vistos hasta este capítulo. Compruebe sus respuestas usando un diagrama de flujo y prueba de escritorio."
   ]
  },
  {
   "cell_type": "markdown",
   "metadata": {},
   "source": [
    "### Ejercicio 1"
   ]
  },
  {
   "cell_type": "markdown",
   "metadata": {},
   "source": [
    "Queremos ejecutar las siguientes sentencias de asignación:\n",
    "\n",
    "  - ancho = 17\n",
    "  - alto = 12.0\n",
    "  - delimitador = \"*\"\n",
    "\n",
    "Para cada una de las siguentes expresiones, escriba el valor de la expresión y el tipo (del valor de la expresión)\n",
    "\n",
    "  - ancho / 2\n",
    "  - ancho / 2.0\n",
    "  - alto / 3\n",
    "  - 1 + 2 * 5\n",
    "  - delimitador * 5"
   ]
  },
  {
   "cell_type": "markdown",
   "metadata": {},
   "source": [
    "### Ejercicio 2"
   ]
  },
  {
   "cell_type": "markdown",
   "metadata": {},
   "source": [
    "El volumen de una esfera de radio $r$ está dada por la ecuación: $Vol = \\frac{4}{3} \\pi r^3$. Calcular el volúmen de una esfera de radio 5."
   ]
  },
  {
   "cell_type": "markdown",
   "metadata": {},
   "source": [
    "### Ejercicio 3"
   ]
  },
  {
   "cell_type": "markdown",
   "metadata": {},
   "source": [
    "Suponga que el precio de un libro es de $\\$57.500$ y la librería tiene un $40\\%$ de descuento. Los costos de envío son $\\$5.500$ para la primera copia y $\\$1.500$ por cada copia adicional. Cuál es el costo total de 60 copias? "
   ]
  },
  {
   "cell_type": "markdown",
   "metadata": {},
   "source": [
    "### Ejercicio 4"
   ]
  },
  {
   "cell_type": "markdown",
   "metadata": {},
   "source": [
    "La fórmula de [Herón](https://es.wikipedia.org/wiki/Fórmula_de_Herón \"Fórmula de Herón\") ofrece una forma de obtener el área de un triángulo dados los lados $a$, $b$ y $c$: \n",
    "\n",
    "$$Área = \\sqrt{s(s-a)(s-b)(s-c)}$$ donde $$s=\\frac{a+b+c}{2}$$\n",
    "\n",
    "Calcule el área del triángulo empleando la fórmula de Herón para diferentes valores de sus lados $a$, $b$ y $c$."
   ]
  },
  {
   "cell_type": "markdown",
   "metadata": {},
   "source": [
    "### Ejercicio 5"
   ]
  },
  {
   "cell_type": "markdown",
   "metadata": {},
   "source": [
    "Indique qué dificultades ha encontrado en el desarrollo de los ejercicios anteriores. Qué considera podría faltar (de lo visto hasta aquí) para poder desarrollar de una mejor manera dichos ejercicios?"
   ]
  }
 ],
 "metadata": {
  "anaconda-cloud": {},
  "kernelspec": {
   "display_name": "Python 3 (ipykernel)",
   "language": "python",
   "name": "python3"
  },
  "language_info": {
   "codemirror_mode": {
    "name": "ipython",
    "version": 3
   },
   "file_extension": ".py",
   "mimetype": "text/x-python",
   "name": "python",
   "nbconvert_exporter": "python",
   "pygments_lexer": "ipython3",
   "version": "3.12.4"
  },
  "latex_envs": {
   "LaTeX_envs_menu_present": true,
   "autocomplete": true,
   "bibliofile": "biblio.bib",
   "cite_by": "apalike",
   "current_citInitial": 1,
   "eqLabelWithNumbers": true,
   "eqNumInitial": 1,
   "hotkeys": {
    "equation": "Ctrl-E",
    "itemize": "Ctrl-I"
   },
   "labels_anchors": false,
   "latex_user_defs": false,
   "report_style_numbering": true,
   "user_envs_cfg": true
  },
  "toc": {
   "base_numbering": 1,
   "nav_menu": {},
   "number_sections": true,
   "sideBar": true,
   "skip_h1_title": true,
   "title_cell": "Table of Contents",
   "title_sidebar": "Contents",
   "toc_cell": false,
   "toc_position": {
    "height": "calc(100% - 180px)",
    "left": "10px",
    "top": "150px",
    "width": "290.76px"
   },
   "toc_section_display": true,
   "toc_window_display": false
  },
  "varInspector": {
   "cols": {
    "lenName": 16,
    "lenType": 16,
    "lenVar": 40
   },
   "kernels_config": {
    "python": {
     "delete_cmd_postfix": "",
     "delete_cmd_prefix": "del ",
     "library": "var_list.py",
     "varRefreshCmd": "print(var_dic_list())"
    },
    "r": {
     "delete_cmd_postfix": ") ",
     "delete_cmd_prefix": "rm(",
     "library": "var_list.r",
     "varRefreshCmd": "cat(var_dic_list()) "
    }
   },
   "types_to_exclude": [
    "module",
    "function",
    "builtin_function_or_method",
    "instance",
    "_Feature"
   ],
   "window_display": false
  }
 },
 "nbformat": 4,
 "nbformat_minor": 4
}
